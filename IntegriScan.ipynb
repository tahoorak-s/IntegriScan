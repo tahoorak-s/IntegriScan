{
  "nbformat": 4,
  "nbformat_minor": 0,
  "metadata": {
    "colab": {
      "provenance": [],
      "authorship_tag": "ABX9TyOYT5hsuh8fbkIZ1b70iKea",
      "include_colab_link": true
    },
    "kernelspec": {
      "name": "python3",
      "display_name": "Python 3"
    },
    "language_info": {
      "name": "python"
    }
  },
  "cells": [
    {
      "cell_type": "markdown",
      "metadata": {
        "id": "view-in-github",
        "colab_type": "text"
      },
      "source": [
        "<a href=\"https://colab.research.google.com/github/tahoorak-s/IntegriScan/blob/main/IntegriScan.ipynb\" target=\"_parent\"><img src=\"https://colab.research.google.com/assets/colab-badge.svg\" alt=\"Open In Colab\"/></a>"
      ]
    },
    {
      "cell_type": "markdown",
      "source": [
        "#**IntegriScan**: File Integrity Checking By Comparing and Calculating Hash Values\n",
        "\n",
        "###Overview:\n",
        "IntegriScan is a Python-based cybersecurity tool that ensures the integrity of files in a directory. It works by calculating cryptographic <B>SHA-256</B> hash values for each file and comparing them with previously stored values to detect modifications, deletions, or unauthorized additions.\n",
        "\n",
        "###Tools Used:\n",
        "- Language: Python\n",
        "- Libraries: hashlib, os, json, zipfile\n",
        "- Environment: Google Colab\n",
        "\n",
        "###How It Works:\n",
        "1. A folder (uploaded as a ZIP) is scanned.\n",
        "2. Each file’s hash is calculated and stored in `hashes.json`.\n",
        "3. On future runs, the script compares the current file states with the previous hashes.\n",
        "4. It reports any changes found: modified, deleted, or added files.\n",
        "\n",
        "\n",
        "---\n",
        "\n",
        "\n",
        "\n"
      ],
      "metadata": {
        "id": "EaGtHQKjUjxn"
      }
    },
    {
      "cell_type": "markdown",
      "source": [
        "###STEP 1: Upload a ZIP file containing the files you want to check"
      ],
      "metadata": {
        "id": "lcoYHjaeU0UT"
      }
    },
    {
      "cell_type": "code",
      "execution_count": 21,
      "metadata": {
        "id": "Yd1_ZA1ZOOp2",
        "colab": {
          "base_uri": "https://localhost:8080/",
          "height": 73
        },
        "outputId": "dc5b6f7e-e2a1-4dc7-9686-f0d0d0e75ba3"
      },
      "outputs": [
        {
          "output_type": "display_data",
          "data": {
            "text/plain": [
              "<IPython.core.display.HTML object>"
            ],
            "text/html": [
              "\n",
              "     <input type=\"file\" id=\"files-d653b0f4-464d-4450-af38-65a8592c5827\" name=\"files[]\" multiple disabled\n",
              "        style=\"border:none\" />\n",
              "     <output id=\"result-d653b0f4-464d-4450-af38-65a8592c5827\">\n",
              "      Upload widget is only available when the cell has been executed in the\n",
              "      current browser session. Please rerun this cell to enable.\n",
              "      </output>\n",
              "      <script>// Copyright 2017 Google LLC\n",
              "//\n",
              "// Licensed under the Apache License, Version 2.0 (the \"License\");\n",
              "// you may not use this file except in compliance with the License.\n",
              "// You may obtain a copy of the License at\n",
              "//\n",
              "//      http://www.apache.org/licenses/LICENSE-2.0\n",
              "//\n",
              "// Unless required by applicable law or agreed to in writing, software\n",
              "// distributed under the License is distributed on an \"AS IS\" BASIS,\n",
              "// WITHOUT WARRANTIES OR CONDITIONS OF ANY KIND, either express or implied.\n",
              "// See the License for the specific language governing permissions and\n",
              "// limitations under the License.\n",
              "\n",
              "/**\n",
              " * @fileoverview Helpers for google.colab Python module.\n",
              " */\n",
              "(function(scope) {\n",
              "function span(text, styleAttributes = {}) {\n",
              "  const element = document.createElement('span');\n",
              "  element.textContent = text;\n",
              "  for (const key of Object.keys(styleAttributes)) {\n",
              "    element.style[key] = styleAttributes[key];\n",
              "  }\n",
              "  return element;\n",
              "}\n",
              "\n",
              "// Max number of bytes which will be uploaded at a time.\n",
              "const MAX_PAYLOAD_SIZE = 100 * 1024;\n",
              "\n",
              "function _uploadFiles(inputId, outputId) {\n",
              "  const steps = uploadFilesStep(inputId, outputId);\n",
              "  const outputElement = document.getElementById(outputId);\n",
              "  // Cache steps on the outputElement to make it available for the next call\n",
              "  // to uploadFilesContinue from Python.\n",
              "  outputElement.steps = steps;\n",
              "\n",
              "  return _uploadFilesContinue(outputId);\n",
              "}\n",
              "\n",
              "// This is roughly an async generator (not supported in the browser yet),\n",
              "// where there are multiple asynchronous steps and the Python side is going\n",
              "// to poll for completion of each step.\n",
              "// This uses a Promise to block the python side on completion of each step,\n",
              "// then passes the result of the previous step as the input to the next step.\n",
              "function _uploadFilesContinue(outputId) {\n",
              "  const outputElement = document.getElementById(outputId);\n",
              "  const steps = outputElement.steps;\n",
              "\n",
              "  const next = steps.next(outputElement.lastPromiseValue);\n",
              "  return Promise.resolve(next.value.promise).then((value) => {\n",
              "    // Cache the last promise value to make it available to the next\n",
              "    // step of the generator.\n",
              "    outputElement.lastPromiseValue = value;\n",
              "    return next.value.response;\n",
              "  });\n",
              "}\n",
              "\n",
              "/**\n",
              " * Generator function which is called between each async step of the upload\n",
              " * process.\n",
              " * @param {string} inputId Element ID of the input file picker element.\n",
              " * @param {string} outputId Element ID of the output display.\n",
              " * @return {!Iterable<!Object>} Iterable of next steps.\n",
              " */\n",
              "function* uploadFilesStep(inputId, outputId) {\n",
              "  const inputElement = document.getElementById(inputId);\n",
              "  inputElement.disabled = false;\n",
              "\n",
              "  const outputElement = document.getElementById(outputId);\n",
              "  outputElement.innerHTML = '';\n",
              "\n",
              "  const pickedPromise = new Promise((resolve) => {\n",
              "    inputElement.addEventListener('change', (e) => {\n",
              "      resolve(e.target.files);\n",
              "    });\n",
              "  });\n",
              "\n",
              "  const cancel = document.createElement('button');\n",
              "  inputElement.parentElement.appendChild(cancel);\n",
              "  cancel.textContent = 'Cancel upload';\n",
              "  const cancelPromise = new Promise((resolve) => {\n",
              "    cancel.onclick = () => {\n",
              "      resolve(null);\n",
              "    };\n",
              "  });\n",
              "\n",
              "  // Wait for the user to pick the files.\n",
              "  const files = yield {\n",
              "    promise: Promise.race([pickedPromise, cancelPromise]),\n",
              "    response: {\n",
              "      action: 'starting',\n",
              "    }\n",
              "  };\n",
              "\n",
              "  cancel.remove();\n",
              "\n",
              "  // Disable the input element since further picks are not allowed.\n",
              "  inputElement.disabled = true;\n",
              "\n",
              "  if (!files) {\n",
              "    return {\n",
              "      response: {\n",
              "        action: 'complete',\n",
              "      }\n",
              "    };\n",
              "  }\n",
              "\n",
              "  for (const file of files) {\n",
              "    const li = document.createElement('li');\n",
              "    li.append(span(file.name, {fontWeight: 'bold'}));\n",
              "    li.append(span(\n",
              "        `(${file.type || 'n/a'}) - ${file.size} bytes, ` +\n",
              "        `last modified: ${\n",
              "            file.lastModifiedDate ? file.lastModifiedDate.toLocaleDateString() :\n",
              "                                    'n/a'} - `));\n",
              "    const percent = span('0% done');\n",
              "    li.appendChild(percent);\n",
              "\n",
              "    outputElement.appendChild(li);\n",
              "\n",
              "    const fileDataPromise = new Promise((resolve) => {\n",
              "      const reader = new FileReader();\n",
              "      reader.onload = (e) => {\n",
              "        resolve(e.target.result);\n",
              "      };\n",
              "      reader.readAsArrayBuffer(file);\n",
              "    });\n",
              "    // Wait for the data to be ready.\n",
              "    let fileData = yield {\n",
              "      promise: fileDataPromise,\n",
              "      response: {\n",
              "        action: 'continue',\n",
              "      }\n",
              "    };\n",
              "\n",
              "    // Use a chunked sending to avoid message size limits. See b/62115660.\n",
              "    let position = 0;\n",
              "    do {\n",
              "      const length = Math.min(fileData.byteLength - position, MAX_PAYLOAD_SIZE);\n",
              "      const chunk = new Uint8Array(fileData, position, length);\n",
              "      position += length;\n",
              "\n",
              "      const base64 = btoa(String.fromCharCode.apply(null, chunk));\n",
              "      yield {\n",
              "        response: {\n",
              "          action: 'append',\n",
              "          file: file.name,\n",
              "          data: base64,\n",
              "        },\n",
              "      };\n",
              "\n",
              "      let percentDone = fileData.byteLength === 0 ?\n",
              "          100 :\n",
              "          Math.round((position / fileData.byteLength) * 100);\n",
              "      percent.textContent = `${percentDone}% done`;\n",
              "\n",
              "    } while (position < fileData.byteLength);\n",
              "  }\n",
              "\n",
              "  // All done.\n",
              "  yield {\n",
              "    response: {\n",
              "      action: 'complete',\n",
              "    }\n",
              "  };\n",
              "}\n",
              "\n",
              "scope.google = scope.google || {};\n",
              "scope.google.colab = scope.google.colab || {};\n",
              "scope.google.colab._files = {\n",
              "  _uploadFiles,\n",
              "  _uploadFilesContinue,\n",
              "};\n",
              "})(self);\n",
              "</script> "
            ]
          },
          "metadata": {}
        },
        {
          "output_type": "stream",
          "name": "stdout",
          "text": [
            "Saving Downloads.zip to Downloads.zip\n"
          ]
        }
      ],
      "source": [
        "from google.colab import files\n",
        "\n",
        "uploaded = files.upload()\n"
      ]
    },
    {
      "cell_type": "markdown",
      "source": [
        "###STEP 2: Unzip the Folder"
      ],
      "metadata": {
        "id": "Xw98pjWgVPwc"
      }
    },
    {
      "cell_type": "code",
      "source": [
        "import zipfile\n",
        "import os\n",
        "\n",
        "zip_file_name = \"Downloads.zip\"\n",
        "output_dir = \"/content/scan_folder\"\n",
        "\n",
        "with zipfile.ZipFile(zip_file_name, 'r') as zip_ref:\n",
        "    zip_ref.extractall(output_dir)\n",
        "\n",
        "print(f\"Files extracted to: {output_dir}\")\n"
      ],
      "metadata": {
        "colab": {
          "base_uri": "https://localhost:8080/"
        },
        "id": "bKOri2i3QKzN",
        "outputId": "8cf1f848-0962-4ce5-b4b0-4c45c3e54699"
      },
      "execution_count": 17,
      "outputs": [
        {
          "output_type": "stream",
          "name": "stdout",
          "text": [
            "Files extracted to: /content/scan_folder\n"
          ]
        }
      ]
    },
    {
      "cell_type": "markdown",
      "source": [
        "### STEP 3: Generate Hashes for All Files"
      ],
      "metadata": {
        "id": "25afzZdGVcBw"
      }
    },
    {
      "cell_type": "code",
      "source": [
        "import hashlib\n",
        "import json\n",
        "\n",
        "def calculate_hash(file_path):\n",
        "    sha256 = hashlib.sha256()\n",
        "    try:\n",
        "        with open(file_path, 'rb') as f:\n",
        "            while chunk := f.read(4096):\n",
        "                sha256.update(chunk)\n",
        "        return sha256.hexdigest()\n",
        "    except Exception as e:\n",
        "        return f\"ERROR: {e}\"\n",
        "\n",
        "def generate_hashes(directory):\n",
        "    file_hashes = {}\n",
        "    for root, _, files in os.walk(directory):\n",
        "        for name in files:\n",
        "            full_path = os.path.join(root, name)\n",
        "            file_hashes[full_path] = calculate_hash(full_path)\n",
        "    return file_hashes\n",
        "\n",
        "def save_hashes(hashes, filename=\"hashes.json\"):\n",
        "    with open(filename, 'w') as f:\n",
        "        json.dump(hashes, f, indent=4)\n",
        "\n",
        "# Run the hash generation\n",
        "hashes = generate_hashes(output_dir)\n",
        "save_hashes(hashes)\n",
        "print(\"✅ Hashes saved to hashes.json\")\n"
      ],
      "metadata": {
        "colab": {
          "base_uri": "https://localhost:8080/"
        },
        "id": "OR4dY-WXQzFT",
        "outputId": "c96bed04-8ee5-4084-e01f-e34336c9c78e"
      },
      "execution_count": 22,
      "outputs": [
        {
          "output_type": "stream",
          "name": "stdout",
          "text": [
            "✅ Hashes saved to hashes.json\n"
          ]
        }
      ]
    },
    {
      "cell_type": "markdown",
      "source": [
        "###STEP 4: Compare with Previous Hashes (to detect changes)\n"
      ],
      "metadata": {
        "id": "s4omt9RHVgtD"
      }
    },
    {
      "cell_type": "code",
      "source": [
        "def load_hashes(filename=\"hashes.json\"):\n",
        "    try:\n",
        "        with open(filename, 'r') as f:\n",
        "            return json.load(f)\n",
        "    except FileNotFoundError:\n",
        "        print(\"⚠️ No previous hash file found.\")\n",
        "        return {}\n",
        "\n",
        "def compare_hashes(old_hashes, new_hashes):\n",
        "    modified = []\n",
        "    deleted = []\n",
        "    added = []\n",
        "\n",
        "    old_files = set(old_hashes.keys())\n",
        "    new_files = set(new_hashes.keys())\n",
        "\n",
        "    for file in old_files:\n",
        "        if file not in new_files:\n",
        "            deleted.append(file)\n",
        "        elif old_hashes[file] != new_hashes[file]:\n",
        "            modified.append(file)\n",
        "\n",
        "    for file in new_files - old_files:\n",
        "        added.append(file)\n",
        "\n",
        "    return modified, deleted, added\n",
        "\n"
      ],
      "metadata": {
        "id": "3qGhr1oCQ3xo"
      },
      "execution_count": 23,
      "outputs": []
    },
    {
      "cell_type": "code",
      "source": [
        "def exec_result():\n",
        "  # Simulate a second scan (you can rerun this after modifying files and re-uploading)\n",
        "  new_hashes = generate_hashes(output_dir)\n",
        "  old_hashes = load_hashes()\n",
        "\n",
        "  modified, deleted, added = compare_hashes(old_hashes, new_hashes)\n",
        "\n",
        "  # Print the results\n",
        "  print(\"\\n🔍 File Change Report:\")\n",
        "  print(\"📝 Modified Files:\")\n",
        "  print(\"\\n\".join(modified) if modified else \" - None\")\n",
        "  print(\"❌ Deleted Files:\")\n",
        "  print(\"\\n\".join(deleted) if deleted else \" - None\")\n",
        "  print(\"➕ New Files:\")\n",
        "  print(\"\\n\".join(added) if added else \" - None\")"
      ],
      "metadata": {
        "id": "A3Bg7MH0WTKr"
      },
      "execution_count": 25,
      "outputs": []
    },
    {
      "cell_type": "markdown",
      "source": [
        "####CASE I: NO CHANGES TO THE FILES"
      ],
      "metadata": {
        "id": "kPDl2VIWWXSF"
      }
    },
    {
      "cell_type": "code",
      "source": [
        "exec_result()"
      ],
      "metadata": {
        "colab": {
          "base_uri": "https://localhost:8080/"
        },
        "id": "ceTMxjLhWyM7",
        "outputId": "6faf384d-584e-4612-d9c5-c65388f33c42"
      },
      "execution_count": 26,
      "outputs": [
        {
          "output_type": "stream",
          "name": "stdout",
          "text": [
            "\n",
            "🔍 File Change Report:\n",
            "📝 Modified Files:\n",
            " - None\n",
            "❌ Deleted Files:\n",
            " - None\n",
            "➕ New Files:\n",
            " - None\n"
          ]
        }
      ]
    },
    {
      "cell_type": "markdown",
      "source": [
        "####CASE II: A FILE IS DELETED"
      ],
      "metadata": {
        "id": "Mv-QsTlEW0o8"
      }
    },
    {
      "cell_type": "code",
      "source": [
        "exec_result()"
      ],
      "metadata": {
        "colab": {
          "base_uri": "https://localhost:8080/"
        },
        "outputId": "b5e10676-1bfa-498d-cee7-76e1eeeb2574",
        "id": "KPow2YPDSGQD"
      },
      "execution_count": 27,
      "outputs": [
        {
          "output_type": "stream",
          "name": "stdout",
          "text": [
            "\n",
            "🔍 File Change Report:\n",
            "📝 Modified Files:\n",
            " - None\n",
            "❌ Deleted Files:\n",
            "/content/scan_folder/business presentation.docx\n",
            "➕ New Files:\n",
            " - None\n"
          ]
        }
      ]
    },
    {
      "cell_type": "markdown",
      "source": [
        "####CASE III: NEW FILE IS ADDED TO THE FOLDER"
      ],
      "metadata": {
        "id": "vE1YnPscXCSM"
      }
    },
    {
      "cell_type": "code",
      "source": [
        "exec_result()"
      ],
      "metadata": {
        "colab": {
          "base_uri": "https://localhost:8080/"
        },
        "outputId": "68f00a10-0ae1-4bc3-9a6b-472169b412d6",
        "id": "-2YQPahlSkdj"
      },
      "execution_count": 28,
      "outputs": [
        {
          "output_type": "stream",
          "name": "stdout",
          "text": [
            "\n",
            "🔍 File Change Report:\n",
            "📝 Modified Files:\n",
            " - None\n",
            "❌ Deleted Files:\n",
            "/content/scan_folder/business presentation.docx\n",
            "➕ New Files:\n",
            "/content/scan_folder/untitled\n"
          ]
        }
      ]
    },
    {
      "cell_type": "markdown",
      "source": [
        "####CASE IV: TO DETECT A MODIFIED FILE IN THE FOLDER\n"
      ],
      "metadata": {
        "id": "Ow7MCLsQXcwj"
      }
    },
    {
      "cell_type": "markdown",
      "source": [
        "<U>Step 1: Create a Test Folder with Files</U>"
      ],
      "metadata": {
        "id": "FoyvsgwjXjJv"
      }
    },
    {
      "cell_type": "code",
      "source": [
        "import os\n",
        "\n",
        "test_dir = \"/content/test_folder\"\n",
        "os.makedirs(test_dir, exist_ok=True)\n",
        "\n",
        "# Create sample files\n",
        "with open(f\"{test_dir}/file1.txt\", \"w\") as f:\n",
        "    f.write(\"Original content.\")\n",
        "\n",
        "with open(f\"{test_dir}/file2.txt\", \"w\") as f:\n",
        "    f.write(\"This file will be changed.\")\n"
      ],
      "metadata": {
        "id": "7Qm7jXLEUDq4"
      },
      "execution_count": 29,
      "outputs": []
    },
    {
      "cell_type": "markdown",
      "source": [
        "<U>Step 2: Generate Baseline Hashes"
      ],
      "metadata": {
        "id": "IowlxezlXv_i"
      }
    },
    {
      "cell_type": "code",
      "source": [
        "hashes = generate_hashes(test_dir)\n",
        "save_hashes(hashes, \"hash.json\")\n",
        "print(\"✅ Baseline hashes generated.\")\n"
      ],
      "metadata": {
        "colab": {
          "base_uri": "https://localhost:8080/"
        },
        "id": "UoxOJMQcUNjO",
        "outputId": "d9843977-3a6c-4cb8-9e8d-fc5ccbaf55b4"
      },
      "execution_count": 14,
      "outputs": [
        {
          "output_type": "stream",
          "name": "stdout",
          "text": [
            "✅ Baseline hashes generated.\n"
          ]
        }
      ]
    },
    {
      "cell_type": "markdown",
      "source": [
        "<U>Step 3: Modify One File (simulate tampering)"
      ],
      "metadata": {
        "id": "1-KtethGX1JU"
      }
    },
    {
      "cell_type": "code",
      "source": [
        "# Modify file2.txt\n",
        "with open(f\"{test_dir}/file2.txt\", \"a\") as f:\n",
        "    f.write(\"\\nThis is malicious code!\")\n",
        "\n",
        "print(\"⚠️ file2.txt has been modified.\")\n"
      ],
      "metadata": {
        "colab": {
          "base_uri": "https://localhost:8080/"
        },
        "id": "YdxJHWTvUTjM",
        "outputId": "72074a0f-09f7-41de-dbe6-dbe1f8b70440"
      },
      "execution_count": 15,
      "outputs": [
        {
          "output_type": "stream",
          "name": "stdout",
          "text": [
            "⚠️ file2.txt has been modified.\n"
          ]
        }
      ]
    },
    {
      "cell_type": "markdown",
      "source": [
        "<U>Step 4: Compare with Baseline"
      ],
      "metadata": {
        "id": "oXKZBEqWX4SD"
      }
    },
    {
      "cell_type": "code",
      "source": [
        "new_hashes = generate_hashes(test_dir)\n",
        "old_hashes = load_hashes(\"hash.json\")\n",
        "\n",
        "modified, deleted, added = compare_hashes(old_hashes, new_hashes)\n",
        "\n",
        "print(\"\\n🔍 File Change Report:\")\n",
        "print(\"📝 Modified Files:\")\n",
        "print(\"\\n\".join(modified) if modified else \" - None\")\n",
        "print(\"❌ Deleted Files:\")\n",
        "print(\"\\n\".join(deleted) if deleted else \" - None\")\n",
        "print(\"➕ New Files:\")\n",
        "print(\"\\n\".join(added) if added else \" - None\")\n"
      ],
      "metadata": {
        "colab": {
          "base_uri": "https://localhost:8080/"
        },
        "id": "JWTFdZixUYGc",
        "outputId": "ad821692-f98e-43cd-8986-a3fc98806f9a"
      },
      "execution_count": 16,
      "outputs": [
        {
          "output_type": "stream",
          "name": "stdout",
          "text": [
            "\n",
            "🔍 File Change Report:\n",
            "📝 Modified Files:\n",
            "/content/test_folder/file2.txt\n",
            "❌ Deleted Files:\n",
            " - None\n",
            "➕ New Files:\n",
            " - None\n"
          ]
        }
      ]
    },
    {
      "cell_type": "markdown",
      "source": [
        "---\n",
        "\n",
        "###Outcome:\n",
        "The script effectively monitors file integrity and provides an essential baseline for intrusion detection or digital forensics."
      ],
      "metadata": {
        "id": "4ZgSxp68Y_tl"
      }
    }
  ]
}